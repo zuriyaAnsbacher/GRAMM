{
 "cells": [
  {
   "cell_type": "markdown",
   "metadata": {},
   "source": [
    "#### TODO\n",
    "- ~~Generate list of marginal components for N-locus haplotype~~\n",
    "- ~~Generate list of precedence levels for N-locus haplotype~~\n",
    "- ~~For each precedence level, generate marginal component groupings which cover all N loci, and where the number of loci in each component is at most _Max Loci_~~\n",
    "- Define data structure for caching of cypher query results from lookup of marginal components\n",
    "- Define cypher queries for batch lookup of marginal components relevant/related to input HLA"
   ]
  },
  {
   "cell_type": "markdown",
   "metadata": {},
   "source": [
    "#### combi\n",
    "\n",
    "A Pythonic package for combinatorics.  See also:\n",
    "\n",
    "- https://pypi.python.org/pypi/combi/1.1.2\n",
    "- https://combi.readthedocs.io/en/stable/"
   ]
  },
  {
   "cell_type": "code",
   "execution_count": null,
   "metadata": {
    "collapsed": true
   },
   "outputs": [],
   "source": [
    "from combi import CombSpace, Comb"
   ]
  },
  {
   "cell_type": "markdown",
   "metadata": {},
   "source": [
    "#### Combinatorics\n",
    "\n",
    "A module to supplement Python's itertools.  See also:\n",
    "\n",
    "- https://pypi.python.org/pypi/Combinatorics/\n",
    "- http://phillipmfeldman.org/Python/combinatorics.html\n",
    "- [https://en.wikipedia.org/wiki/Partition_(number_theory)](https://en.wikipedia.org/wiki/Partition_(number_theory%29)\n",
    "\n",
    "To install, download zip file and pip install it."
   ]
  },
  {
   "cell_type": "code",
   "execution_count": null,
   "metadata": {
    "collapsed": true
   },
   "outputs": [],
   "source": [
    "from Combinatorics import m_way_unordered_combinations, partitions2"
   ]
  },
  {
   "cell_type": "markdown",
   "metadata": {},
   "source": [
    "#### frozendict\n",
    "\n",
    "An immutable wrapper around dictionaries.  See also:\n",
    "\n",
    "- https://pypi.python.org/pypi/frozendict/"
   ]
  },
  {
   "cell_type": "code",
   "execution_count": null,
   "metadata": {
    "collapsed": true
   },
   "outputs": [],
   "source": [
    "from frozendict import frozendict"
   ]
  },
  {
   "cell_type": "code",
   "execution_count": null,
   "metadata": {
    "collapsed": true
   },
   "outputs": [],
   "source": [
    "from collections import OrderedDict"
   ]
  },
  {
   "cell_type": "code",
   "execution_count": null,
   "metadata": {
    "collapsed": true
   },
   "outputs": [],
   "source": [
    "FULL_LOCI = 'ABCQR'"
   ]
  },
  {
   "cell_type": "code",
   "execution_count": null,
   "metadata": {
    "collapsed": true
   },
   "outputs": [],
   "source": [
    "NUM_LOCI = len(FULL_LOCI)"
   ]
  },
  {
   "cell_type": "code",
   "execution_count": null,
   "metadata": {},
   "outputs": [],
   "source": [
    "# for each partition of FULL_LOCI, compute all marginal component combinations\n",
    "for partition in reversed(list(partitions2(NUM_LOCI))):\n",
    "    print(\"\\n\", list(reversed(partition)), \"partition combinations:\")\n",
    "    for combination in m_way_unordered_combinations(NUM_LOCI,partition):\n",
    "        # print('',combination)\n",
    "        print(' ', [ Comb.coerce(marginal_component, CombSpace(NUM_LOCI,len(marginal_component))).apply(FULL_LOCI) for marginal_component in combination ])"
   ]
  },
  {
   "cell_type": "code",
   "execution_count": null,
   "metadata": {},
   "outputs": [],
   "source": [
    "# example CombSpace usage\n",
    "print([ ''.join(combination) for combination in CombSpace(FULL_LOCI,2) if 'B' in combination ])"
   ]
  },
  {
   "cell_type": "code",
   "execution_count": null,
   "metadata": {
    "collapsed": true
   },
   "outputs": [],
   "source": [
    "class Locus(object):\n",
    "    \"\"\"\n",
    "    (originally imagined as an Enum, but those are reportedly very slow in Python)\n",
    "    \"\"\"\n",
    "\n",
    "    # class variables\n",
    "    _locus_shortname_dict = OrderedDict({ 'A':'A', 'B':'B', 'C':'C', 'DQB1':'Q', 'DRB1':'R' })\n",
    "    _locus_singleletter_dict = OrderedDict({ y: x for x, y in _locus_shortname_dict.items() })\n",
    "\n",
    "    @classmethod\n",
    "    def all_shortnames(cls):\n",
    "        return cls._locus_shortname_dict.keys()\n",
    "\n",
    "    @classmethod\n",
    "    def all_singleletters(cls):\n",
    "        return cls._locus_singleletter_dict.keys()\n",
    "\n",
    "    @classmethod\n",
    "    def shortname_to_singleletter(cls, locus_shortname: str) -> str:\n",
    "        return cls._locus_shortname_dict.get(locus_shortname)\n",
    "\n",
    "    @classmethod\n",
    "    def singleletter_to_shortname(cls, locus_singleletter: str) -> str:\n",
    "        return cls._locus_singleletter_dict.get(locus_singleletter)\n"
   ]
  },
  {
   "cell_type": "code",
   "execution_count": null,
   "metadata": {},
   "outputs": [],
   "source": [
    "print(\"all_shortnames:             \", list(Locus.all_shortnames()))\n",
    "print(\"all_singleletters:          \", list(Locus.all_singleletters()))\n",
    "print(\"shortname_to_singleletter:  \", [Locus.shortname_to_singleletter(sn) for sn in Locus.all_shortnames()])\n",
    "print(\"singleletter_to_shortname:  \", [Locus.singleletter_to_shortname(sl) for sl in Locus.all_singleletters()])"
   ]
  },
  {
   "cell_type": "code",
   "execution_count": null,
   "metadata": {
    "collapsed": true
   },
   "outputs": [],
   "source": [
    "class HaplotypeType(object):\n",
    "    \"\"\"\n",
    "    \"\"\"\n",
    "\n",
    "    def __init__(self, locus_singleletters: str):\n",
    "        \"\"\"\n",
    "        Constructor, e.g. ht = HaplotypeType(\"ABR\")\n",
    "        \"\"\"\n",
    "        self.locus_set = frozenset(locus_singleletters)\n",
    "        self.locus_singleletters = ''.join(sorted(locus_singleletters))\n"
   ]
  },
  {
   "cell_type": "code",
   "execution_count": null,
   "metadata": {
    "collapsed": true
   },
   "outputs": [],
   "source": [
    "haplotype_type = HaplotypeType(\"ABR\")"
   ]
  },
  {
   "cell_type": "code",
   "execution_count": null,
   "metadata": {},
   "outputs": [],
   "source": [
    "print(\"locus_set:       \", haplotype_type.locus_set)\n",
    "print(\"singleletters:   \", haplotype_type.locus_singleletters)\n",
    "print(\"isdisjoint(CQ):  \", haplotype_type.locus_set.isdisjoint(HaplotypeType(\"CQ\").locus_set))\n",
    "print(\"isdisjoint(QR):  \", haplotype_type.locus_set.isdisjoint(HaplotypeType(\"QR\").locus_set))"
   ]
  },
  {
   "cell_type": "code",
   "execution_count": null,
   "metadata": {
    "collapsed": true
   },
   "outputs": [],
   "source": [
    "class Haplotype(object):\n",
    "    \"\"\"\n",
    "    \"\"\"\n",
    "\n",
    "    def __init__(self, tilde_delimited_haplotype: str):\n",
    "        \"\"\"\n",
    "        Constructor, e.g. hk = Haplotype(\"A*01:01~B*08:01~DRB1*03:01\")\n",
    "        \"\"\"\n",
    "        self.locus_shortname_dict = frozendict({k: v for k, v in [allele.split(\"*\") for allele in tilde_delimited_haplotype.split(\"~\")]})\n",
    "        self.haplotype_type = HaplotypeType(''.join([Locus.shortname_to_singleletter(sn) for sn in self.locus_shortname_dict.keys()]))\n",
    "        self.canonical_tilde_delimited_haplotype = '~'.join('*'.join([sn, self.locus_shortname_dict.get(sn)]) for sn in sorted(self.locus_shortname_dict.keys()))\n"
   ]
  },
  {
   "cell_type": "code",
   "execution_count": null,
   "metadata": {
    "collapsed": true
   },
   "outputs": [],
   "source": [
    "haplotype = Haplotype(\"A*01:01~B*08:01~DRB1*03:01\")"
   ]
  },
  {
   "cell_type": "code",
   "execution_count": null,
   "metadata": {},
   "outputs": [],
   "source": [
    "print(\"dict:           \", haplotype.locus_shortname_dict)\n",
    "print(\"singleletters:  \", haplotype.haplotype_type.locus_singleletters)\n",
    "print(\"haplotype:      \", haplotype.canonical_tilde_delimited_haplotype)"
   ]
  },
  {
   "cell_type": "markdown",
   "metadata": {
    "collapsed": true
   },
   "source": [
    "#### To Be Continued ??\n",
    "\n",
    "For additional thoughts and notes about plan b, see also:\n",
    "\n",
    "https://github.com/nmdp-bioinformatics/graph-imputation-match/blob/master/neo4j_guide/guide/imputation-plan-b.adoc\n",
    "\n",
    "https://github.com/nmdp-bioinformatics/graph-imputation-match/blob/master/neo4j_guide/guide/imputation-plan-b-redux.adoc"
   ]
  },
  {
   "cell_type": "code",
   "execution_count": null,
   "metadata": {
    "collapsed": true
   },
   "outputs": [],
   "source": []
  }
 ],
 "metadata": {
  "kernelspec": {
   "display_name": "Python 3",
   "language": "python",
   "name": "python3"
  },
  "language_info": {
   "codemirror_mode": {
    "name": "ipython",
    "version": 3
   },
   "file_extension": ".py",
   "mimetype": "text/x-python",
   "name": "python",
   "nbconvert_exporter": "python",
   "pygments_lexer": "ipython3",
   "version": "3.6.0"
  }
 },
 "nbformat": 4,
 "nbformat_minor": 2
}
